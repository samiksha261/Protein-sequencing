{
  "nbformat": 4,
  "nbformat_minor": 0,
  "metadata": {
    "colab": {
      "provenance": [],
      "authorship_tag": "ABX9TyNsReBAgLNMtNUOdkoUawqP",
      "include_colab_link": true
    },
    "kernelspec": {
      "name": "python3",
      "display_name": "Python 3"
    },
    "language_info": {
      "name": "python"
    }
  },
  "cells": [
    {
      "cell_type": "markdown",
      "metadata": {
        "id": "view-in-github",
        "colab_type": "text"
      },
      "source": [
        "<a href=\"https://colab.research.google.com/github/samiksha261/Protein-sequencing/blob/main/protein_sequence_comparison.ipynb\" target=\"_parent\"><img src=\"https://colab.research.google.com/assets/colab-badge.svg\" alt=\"Open In Colab\"/></a>"
      ]
    },
    {
      "cell_type": "code",
      "source": [
        "!pip install biopython"
      ],
      "metadata": {
        "colab": {
          "base_uri": "https://localhost:8080/"
        },
        "id": "z-5Q-FBP6WnZ",
        "outputId": "e9fcf9d9-ad9b-443d-c4b5-b0c9ab0adc8e"
      },
      "execution_count": 2,
      "outputs": [
        {
          "output_type": "stream",
          "name": "stdout",
          "text": [
            "Looking in indexes: https://pypi.org/simple, https://us-python.pkg.dev/colab-wheels/public/simple/\n",
            "Collecting biopython\n",
            "  Downloading biopython-1.81-cp310-cp310-manylinux_2_17_x86_64.manylinux2014_x86_64.whl (3.1 MB)\n",
            "\u001b[2K     \u001b[90m━━━━━━━━━━━━━━━━━━━━━━━━━━━━━━━━━━━━━━━━\u001b[0m \u001b[32m3.1/3.1 MB\u001b[0m \u001b[31m32.3 MB/s\u001b[0m eta \u001b[36m0:00:00\u001b[0m\n",
            "\u001b[?25hRequirement already satisfied: numpy in /usr/local/lib/python3.10/dist-packages (from biopython) (1.22.4)\n",
            "Installing collected packages: biopython\n",
            "Successfully installed biopython-1.81\n"
          ]
        }
      ]
    },
    {
      "cell_type": "code",
      "source": [
        "!conda install -c conda-forge biopython"
      ],
      "metadata": {
        "colab": {
          "base_uri": "https://localhost:8080/"
        },
        "id": "2YuBo7056k7w",
        "outputId": "e1f04fba-2813-4b39-d026-ab981216102a"
      },
      "execution_count": 3,
      "outputs": [
        {
          "output_type": "stream",
          "name": "stdout",
          "text": [
            "/bin/bash: conda: command not found\n"
          ]
        }
      ]
    },
    {
      "cell_type": "code",
      "source": [
        "# Path to the downloaded FASTA file\n",
        "file_path = \"/content/sequence.fasta\"\n"
      ],
      "metadata": {
        "id": "MTRwSung6nKX"
      },
      "execution_count": 5,
      "outputs": []
    },
    {
      "cell_type": "code",
      "source": [
        "from Bio import SeqIO"
      ],
      "metadata": {
        "id": "_Pb8pkQs8ZU1"
      },
      "execution_count": 7,
      "outputs": []
    },
    {
      "cell_type": "code",
      "source": [
        "# Path to the downloaded FASTA file\n",
        "file_path = \"/content/sequence.fasta\""
      ],
      "metadata": {
        "id": "oE9PEOT58hho"
      },
      "execution_count": 8,
      "outputs": []
    },
    {
      "cell_type": "code",
      "source": [
        "\n",
        "# Open the file and read the sequences\n",
        "sequences = SeqIO.parse(file_path, \"fasta\")"
      ],
      "metadata": {
        "id": "xpsqC7G28nsY"
      },
      "execution_count": 9,
      "outputs": []
    },
    {
      "cell_type": "code",
      "source": [
        "\n",
        "# Print the number of sequences in the file\n",
        "print(\"Number of sequences:\", len(list(sequences)))"
      ],
      "metadata": {
        "colab": {
          "base_uri": "https://localhost:8080/"
        },
        "id": "TZY_pHwC8qqs",
        "outputId": "a0935729-f27c-4954-a7f6-b49cfe407ff8"
      },
      "execution_count": 10,
      "outputs": [
        {
          "output_type": "stream",
          "name": "stdout",
          "text": [
            "Number of sequences: 1\n"
          ]
        }
      ]
    },
    {
      "cell_type": "code",
      "source": [
        "file_path2 = \"/content/sequence (1).fasta\""
      ],
      "metadata": {
        "id": "zY_BvvPc8sYo"
      },
      "execution_count": 11,
      "outputs": []
    },
    {
      "cell_type": "code",
      "source": [
        "# Open the file and read the sequences\n",
        "sequences2 = SeqIO.parse(file_path, \"fasta\")"
      ],
      "metadata": {
        "id": "_vcZDxKL9dpw"
      },
      "execution_count": 12,
      "outputs": []
    },
    {
      "cell_type": "code",
      "source": [
        "# Print the number of sequences in the file\n",
        "print(\"Number of sequences:\", len(list(sequences2)))"
      ],
      "metadata": {
        "colab": {
          "base_uri": "https://localhost:8080/"
        },
        "id": "GlPkdnz89jmJ",
        "outputId": "42d25292-dd58-44ab-b7fa-f60b18519ed1"
      },
      "execution_count": 13,
      "outputs": [
        {
          "output_type": "stream",
          "name": "stdout",
          "text": [
            "Number of sequences: 1\n"
          ]
        }
      ]
    },
    {
      "cell_type": "code",
      "source": [
        "#sequence 1 is sulfatase-2 and sequence2 is alkaline phosphatase"
      ],
      "metadata": {
        "id": "-tJDSfw69nCi"
      },
      "execution_count": 14,
      "outputs": []
    },
    {
      "cell_type": "code",
      "source": [
        "from Bio import SeqIO\n",
        "from Bio import pairwise2\n",
        "from Bio.pairwise2 import format_alignment"
      ],
      "metadata": {
        "colab": {
          "base_uri": "https://localhost:8080/"
        },
        "id": "e_drWwH294jn",
        "outputId": "6300af6e-90e1-45ff-82cf-4dbd58e6be50"
      },
      "execution_count": 15,
      "outputs": [
        {
          "output_type": "stream",
          "name": "stderr",
          "text": [
            "/usr/local/lib/python3.10/dist-packages/Bio/pairwise2.py:278: BiopythonDeprecationWarning: Bio.pairwise2 has been deprecated, and we intend to remove it in a future release of Biopython. As an alternative, please consider using Bio.Align.PairwiseAligner as a replacement, and contact the Biopython developers if you still need the Bio.pairwise2 module.\n",
            "  warnings.warn(\n"
          ]
        }
      ]
    },
    {
      "cell_type": "code",
      "source": [
        "# Compairing the 2 protein sequences files in FASTA Format\n",
        "protein1_path = \"/content/sequence.fasta\"\n",
        "protein2_path = \"/content/sequence (1).fasta\""
      ],
      "metadata": {
        "id": "8XaAvB4i98ja"
      },
      "execution_count": 16,
      "outputs": []
    },
    {
      "cell_type": "code",
      "source": [
        "# Now we will be reading the protein seqeunces\n",
        "protein1_record = SeqIO.read(protein1_path, \"fasta\")\n",
        "protein2_record = SeqIO.read(protein2_path, \"fasta\")"
      ],
      "metadata": {
        "id": "aDb17_jf-aIi"
      },
      "execution_count": 17,
      "outputs": []
    },
    {
      "cell_type": "code",
      "source": [
        "# Retrieving the nucleotide sequences\n",
        "protein1_nucleotide = protein1_record.seq.transcribe()\n",
        "protein2_nucleotide = protein2_record.seq.transcribe()"
      ],
      "metadata": {
        "id": "5fxcFcUs-muO"
      },
      "execution_count": 18,
      "outputs": []
    },
    {
      "cell_type": "code",
      "source": [
        "# Align the nucleotide sequences\n",
        "Alignments  = pairwise2.align.globalxx(protein1_nucleotide, protein2_nucleotide)\n"
      ],
      "metadata": {
        "id": "Tzp27trt-xmx"
      },
      "execution_count": 19,
      "outputs": []
    },
    {
      "cell_type": "code",
      "source": [
        "# priting the best alignment and the score\n",
        "best_alignment = Alignments[0]\n",
        "print(\"Alignment score:\", best_alignment.score)\n",
        "print(format_alignment(*best_alignment))"
      ],
      "metadata": {
        "colab": {
          "base_uri": "https://localhost:8080/"
        },
        "id": "JDze5fsK-7i-",
        "outputId": "bd4e8f29-3e9e-4eb4-94a0-09cac0f6a5fe"
      },
      "execution_count": 21,
      "outputs": [
        {
          "output_type": "stream",
          "name": "stdout",
          "text": [
            "Alignment score: 107.0\n",
            "MGPP-S--LVL----CLL--S---------------A--U-------------V------FSLLG-GS---S---AFLSHH-R-LKGRFQRDRR---NIRPNII-----L-------V-L--UDD-----Q--D-----------V---ELG----SM-----------QVM-N---------K---------U--R---------------RI-------M--E---QGG----A----HFINAF-----VUUP-MCC--------P---------S----RSSIL-U---G-------K-----YV-HN-H---N-UY---UN----N--------E--------NCSS------PSW---------Q--------------------------A-Q--HESRUFAVY-----------LN-S---UGYR-U---A-----F-FGKYLNE-Y----N---G-----SYV-----P---------PGW-KEWV-GLLK----N-SRF---Y--N-YU-------LCRN----G---V----K-----------EK-----H--------G---------SD----------------Y--SK---\n",
            "|    |  |||    | |  |               |  |             |      |  || |    |   |      | |||  |       |  |        |       | |  |       |  |           |   | |    |            |   |         |         |  |               |        |  |   | |    |    |  |       |    |          |         |    |     |   |       |     |  |  |   | |    |     |        |        |         ||          |                          | |  ||    ||            |  |   |    |   |     | ||      |    |   |     |       |         ||  |  | |       | |     |  | |        | |     |   |    |           |      |        |         |                 |  |    \n",
            "M---ISPFLVLAIGUC-LUNSLVPEKEKDPKYWRDQAQEULKYALELQKLNUNVAKNVIMF--LGDG-MGVSUVUA-----ARILKG--Q----LHHN--P---GEEURLEMDKFPFVALSKU--YNUNAQVPDSAGUAUAYLCGVKANE-GUVGVS-AAUERSRCNUUQ--GNEVUSILRWAKDAGKSVGIVUUURVNHAUPSAAYAHSADR-DWYSDNEMPPEALSQ-GCKDIAYQLMH--N--IRDIDV---IM--GGGRKYMYPKNKUDVEYESDEKAR----GURLDGLDLVDUWKSFKPRY-KH-SHFIWNRU-ELLU-LDPHNVDYLLGLFEPGDMQYELN---RNNVUDPS-LSEMVVVAIQILRKNPKGFFLLVEGGRIDHGHHEGKAKQALHE----AV-EMDRAIGQAGSL-USSEDU---LUVVUADHSHVFUFG-----GYUPRGNSIFGLAPMLS--DUDKKPFUAILYGNGPG-YK--VVG---GERENVS--MVDYAHNNY-QAQSAVPL-R-HEUHGGEDVAVFSKGPMAHLLHGVHE-QNYVPHVMAYAACIGANLGHCAPAS-SAGSLAAGPLLLALALYPLS-VLF\n",
            "  Score=107\n",
            "\n"
          ]
        }
      ]
    },
    {
      "cell_type": "code",
      "source": [
        "#calculating alignment score using Bio.pairwise2\n",
        "from Bio import pairwise2"
      ],
      "metadata": {
        "id": "i4TLVIvF_DcR"
      },
      "execution_count": 22,
      "outputs": []
    },
    {
      "cell_type": "code",
      "source": [
        "# here we define the 2 protein sequences\n",
        "#seq1 is sulfatase-1\n",
        "#seq2 is alkaline phosphatase\n",
        "seq1 = \"MGPPSLVLCLLSATVFSLLGGSSAFLSHHRLKGRFQRDRRNIRPNIILVLTDDQDVELGSMQVMNKTRRIMEQGGAHFINAFVTTPMCCPSRSSILTGKYVHNHNTYTNNENCSSPSWQAQHESRTFAVYLNSTGYRTAFFGKYLNEYNGSYVPPGWKEWVGLLKNSRFYNYTLCRNGVKEKHGSDYSK\"\n",
        "seq2 = \"MISPFLVLAIGTCLTNSLVPEKEKDPKYWRDQAQETLKYALELQKLNTNVAKNVIMFLGDGMGVSTVTAARILKGQLHHNPGEETRLEMDKFPFVALSKTYNTNAQVPDSAGTATAYLCGVKANEGTVGVSAATERSRCNTTQGNEVTSILRWAKDAGKSVGIVTTTRVNHATPSAAYAHSADRDWYSDNEMPPEALSQGCKDIAYQLMHNIRDIDVIMGGGRKYMYPKNKTDVEYESDEKARGTRLDGLDLVDTWKSFKPRYKHSHFIWNRTELLTLDPHNVDYLLGLFEPGDMQYELNRNNVTDPSLSEMVVVAIQILRKNPKGFFLLVEGGRIDHGHHEGKAKQALHEAVEMDRAIGQAGSLTSSEDTLTVVTADHSHVFTFGGYTPRGNSIFGLAPMLSDTDKKPFTAILYGNGPGYKVVGGERENVSMVDYAHNNYQAQSAVPLRHETHGGEDVAVFSKGPMAHLLHGVHEQNYVPHVMAYAACIGANLGHCAPASSAGSLAAGPLLLALALYPLSVLF\"\n"
      ],
      "metadata": {
        "id": "xaRtLSnHAWLS"
      },
      "execution_count": 26,
      "outputs": []
    },
    {
      "cell_type": "code",
      "source": [
        "# Align the sequences using the globalxx algorithm\n",
        "alignment = pairwise2.align.globalxx(seq1, seq2)"
      ],
      "metadata": {
        "id": "WoChWF6cAy8E"
      },
      "execution_count": 27,
      "outputs": []
    },
    {
      "cell_type": "code",
      "source": [
        "# Extracting the alignment score from the alignment object\n",
        "alignment_score = alignment[0].score"
      ],
      "metadata": {
        "id": "43yqFJkWBrlp"
      },
      "execution_count": 28,
      "outputs": []
    },
    {
      "cell_type": "code",
      "source": [
        "print(alignment_score)  "
      ],
      "metadata": {
        "colab": {
          "base_uri": "https://localhost:8080/"
        },
        "id": "rMY9I8gjBu7x",
        "outputId": "3423356c-3051-47b6-9576-d35a7479a9aa"
      },
      "execution_count": 29,
      "outputs": [
        {
          "output_type": "stream",
          "name": "stdout",
          "text": [
            "107.0\n"
          ]
        }
      ]
    },
    {
      "cell_type": "code",
      "source": [
        "#Graphical representation providing a comparison between 2 proteins.\n",
        "import matplotlib.pyplot as plt"
      ],
      "metadata": {
        "id": "8O32B-uSByA3"
      },
      "execution_count": 30,
      "outputs": []
    },
    {
      "cell_type": "code",
      "source": [],
      "metadata": {
        "id": "3X62QOSKCVFM"
      },
      "execution_count": null,
      "outputs": []
    },
    {
      "cell_type": "code",
      "source": [
        "# here we define the 2 protein sequences\n",
        "#seq1 is sulfatase-1\n",
        "#seq2 is alkaline phosphatase\n",
        "seq1 = \"MGPPSLVLCLLSATVFSLLGGSSAFLSHHRLKGRFQRDRRNIRPNIILVLTDDQDVELGSMQVMNKTRRIMEQGGAHFINAFVTTPMCCPSRSSILTGKYVHNHNTYTNNENCSSPSWQAQHESRTFAVYLNSTGYRTAFFGKYLNEYNGSYVPPGWKEWVGLLKNSRFYNYTLCRNGVKEKHGSDYSK\"\n",
        "seq2 = \"MISPFLVLAIGTCLTNSLVPEKEKDPKYWRDQAQETLKYALELQKLNTNVAKNVIMFLGDGMGVSTVTAARILKGQLHHNPGEETRLEMDKFPFVALSKTYNTNAQVPDSAGTATAYLCGVKANEGTVGVSAATERSRCNTTQGNEVTSILRWAKDAGKSVGIVTTTRVNHATPSAAYAHSADRDWYSDNEMPPEALSQGCKDIAYQLMHNIRDIDVIMGGGRKYMYPKNKTDVEYESDEKARGTRLDGLDLVDTWKSFKPRYKHSHFIWNRTELLTLDPHNVDYLLGLFEPGDMQYELNRNNVTDPSLSEMVVVAIQILRKNPKGFFLLVEGGRIDHGHHEGKAKQALHEAVEMDRAIGQAGSLTSSEDTLTVVTADHSHVFTFGGYTPRGNSIFGLAPMLSDTDKKPFTAILYGNGPGYKVVGGERENVSMVDYAHNNYQAQSAVPLRHETHGGEDVAVFSKGPMAHLLHGVHEQNYVPHVMAYAACIGANLGHCAPASSAGSLAAGPLLLALALYPLSVLF\"\n"
      ],
      "metadata": {
        "id": "U1p4Y3KYCaUS"
      },
      "execution_count": 31,
      "outputs": []
    },
    {
      "cell_type": "code",
      "source": [
        "# Defining function to generate the graphical representation\n",
        "def plot_sequences(seq1, seq2):\n",
        "    fig, ax = plt.subplots(figsize=(30, 2))\n",
        "    ax.set_xlim([0, len(seq1)])\n",
        "    ax.set_ylim([0, 3])\n",
        "    ax.plot(range(len(seq1)), [1]*len(seq1), 'k')\n",
        "    ax.plot(range(len(seq2)), [2]*len(seq2), 'k')\n",
        "    for i in range(len(seq1)):\n",
        "        if seq1[i] == seq2[i]:\n",
        "            ax.plot([i], [1], 'bo')\n",
        "            ax.plot([i], [2], 'bo')\n",
        "        else:\n",
        "            ax.plot([i], [1], 'ro')\n",
        "            ax.plot([i], [2], 'ro')\n",
        "    plt.show()\n",
        "\n",
        "# Call the function to generate the graph\n",
        "plot_sequences(seq1, seq2)\n"
      ],
      "metadata": {
        "colab": {
          "base_uri": "https://localhost:8080/",
          "height": 240
        },
        "id": "p0rMA6xQCb3s",
        "outputId": "491e015c-f379-46b3-f390-0be046778c4c"
      },
      "execution_count": 32,
      "outputs": [
        {
          "output_type": "display_data",
          "data": {
            "text/plain": [
              "<Figure size 3000x200 with 1 Axes>"
            ],
            "image/png": "[encoded data removed]"
          },
          "metadata": {}
        }
      ]
    },
    {
      "cell_type": "code",
      "source": [
        "#blue dots indicates the identical proteins and red dots indicates the non-identical nucleotide residues between the seqyuences."
      ],
      "metadata": {
        "id": "Tm5zqCyoCr4v"
      },
      "execution_count": 33,
      "outputs": []
    },
    {
      "cell_type": "code",
      "source": [
        "# as per the local alignment tool we have a high score stating that the protiens sequences are highly similar."
      ],
      "metadata": {
        "id": "o_nngmf3EK8b"
      },
      "execution_count": null,
      "outputs": []
    }
  ]
}