{
  "nbformat": 4,
  "nbformat_minor": 0,
  "metadata": {
    "colab": {
      "provenance": [],
      "authorship_tag": "ABX9TyNNMNXp1Qg0ExLnlnRCLNov",
      "include_colab_link": true
    },
    "kernelspec": {
      "name": "python3",
      "display_name": "Python 3"
    },
    "language_info": {
      "name": "python"
    }
  },
  "cells": [
    {
      "cell_type": "markdown",
      "metadata": {
        "id": "view-in-github",
        "colab_type": "text"
      },
      "source": [
        "<a href=\"https://colab.research.google.com/github/samiksha261/Protein-sequencing/blob/main/Protein_involved_in_Alzheimer's_disease_.ipynb\" target=\"_parent\"><img src=\"https://colab.research.google.com/assets/colab-badge.svg\" alt=\"Open In Colab\"/></a>"
      ]
    },
    {
      "cell_type": "code",
      "execution_count": 1,
      "metadata": {
        "colab": {
          "base_uri": "https://localhost:8080/"
        },
        "id": "kaxjYBlVhYZ7",
        "outputId": "09b79b3d-8224-4f51-86ff-d54e821635cc"
      },
      "outputs": [
        {
          "output_type": "stream",
          "name": "stdout",
          "text": [
            "Collecting biopython\n",
            "  Downloading biopython-1.81-cp310-cp310-manylinux_2_17_x86_64.manylinux2014_x86_64.whl (3.1 MB)\n",
            "\u001b[2K     \u001b[90m━━━━━━━━━━━━━━━━━━━━━━━━━━━━━━━━━━━━━━━━\u001b[0m \u001b[32m3.1/3.1 MB\u001b[0m \u001b[31m9.6 MB/s\u001b[0m eta \u001b[36m0:00:00\u001b[0m\n",
            "\u001b[?25hRequirement already satisfied: numpy in /usr/local/lib/python3.10/dist-packages (from biopython) (1.22.4)\n",
            "Installing collected packages: biopython\n",
            "Successfully installed biopython-1.81\n"
          ]
        }
      ],
      "source": [
        " pip install biopython"
      ]
    },
    {
      "cell_type": "code",
      "source": [
        "from Bio import SeqIO"
      ],
      "metadata": {
        "id": "NMUet6-hh3co"
      },
      "execution_count": 2,
      "outputs": []
    },
    {
      "cell_type": "markdown",
      "source": [
        "Protein 1 =\n",
        "Structure of human serum amyloid A1\n",
        "Lu, J., Sun, P.D.\n",
        "\n",
        "(2014) Proc Natl Acad Sci U S A 111: 5189-5194\n",
        "\n",
        "Released\t2014-03-26\n",
        "Method\n",
        "X-RAY DIFFRACTION 2.193 Å\n",
        "Organisms\n",
        "Homo sapiens\n",
        "Macromolecule\n",
        "Serum amyloid A-1 protein (protein)\n",
        "Unique Ligands\tP4C, SO4"
      ],
      "metadata": {
        "id": "l9CW1IW4umJT"
      }
    },
    {
      "cell_type": "markdown",
      "source": [
        "\n",
        "\n",
        "\n",
        "\n",
        "\n",
        "Protein 2 =\n",
        "Crystal Structure of mouse Serum Amyloid A3\n",
        "PDB DOI:  https://doi.org/10.2210/pdb4Q5G/pdb\n",
        "Classification: PROTEIN BINDING\n",
        "Organism(s): Mus musculus\n",
        "Expression System: Escherichia coli\n",
        "Mutation(s): No\n",
        "\n",
        "Deposited: 2014-04-16 Released: 2014-09-03\n",
        "Deposition Author(s): Derebe, M.G., Hooper, L.V.\n"
      ],
      "metadata": {
        "id": "d_tsrxXDuhJ8"
      }
    },
    {
      "cell_type": "code",
      "source": [
        "from Bio.Blast import NCBIWWW"
      ],
      "metadata": {
        "id": "Tv-eAvwMjdV_"
      },
      "execution_count": 3,
      "outputs": []
    },
    {
      "cell_type": "code",
      "source": [
        "from Bio.Blast import NCBIXML"
      ],
      "metadata": {
        "id": "-JLEjOoekB1C"
      },
      "execution_count": 4,
      "outputs": []
    },
    {
      "cell_type": "markdown",
      "source": [
        "To uplod the FASTA file downloaded, run the following code."
      ],
      "metadata": {
        "id": "P3E_WFhXntm0"
      }
    },
    {
      "cell_type": "code",
      "source": [
        "from google.colab import files\n",
        "\n",
        "# Upload the FASTA file\n",
        "uploaded = files.upload()\n"
      ],
      "metadata": {
        "colab": {
          "base_uri": "https://localhost:8080/",
          "height": 73
        },
        "id": "ZZnFo50Om-eu",
        "outputId": "61dea459-9d16-40b8-be8d-2a76b4e23ddd"
      },
      "execution_count": 7,
      "outputs": [
        {
          "output_type": "display_data",
          "data": {
            "text/plain": [
              "<IPython.core.display.HTML object>"
            ],
            "text/html": [
              "\n",
              "     <input type=\"file\" id=\"files-89086b05-60dc-428d-8776-aa0e0e065607\" name=\"files[]\" multiple disabled\n",
              "        style=\"border:none\" />\n",
              "     <output id=\"result-89086b05-60dc-428d-8776-aa0e0e065607\">\n",
              "      Upload widget is only available when the cell has been executed in the\n",
              "      current browser session. Please rerun this cell to enable.\n",
              "      </output>\n",
              "      <script>// Copyright 2017 Google LLC\n",
              "//\n",
              "// Licensed under the Apache License, Version 2.0 (the \"License\");\n",
              "// you may not use this file except in compliance with the License.\n",
              "// You may obtain a copy of the License at\n",
              "//\n",
              "//      http://www.apache.org/licenses/LICENSE-2.0\n",
              "//\n",
              "// Unless required by applicable law or agreed to in writing, software\n",
              "// distributed under the License is distributed on an \"AS IS\" BASIS,\n",
              "// WITHOUT WARRANTIES OR CONDITIONS OF ANY KIND, either express or implied.\n",
              "// See the License for the specific language governing permissions and\n",
              "// limitations under the License.\n",
              "\n",
              "/**\n",
              " * @fileoverview Helpers for google.colab Python module.\n",
              " */\n",
              "(function(scope) {\n",
              "function span(text, styleAttributes = {}) {\n",
              "  const element = document.createElement('span');\n",
              "  element.textContent = text;\n",
              "  for (const key of Object.keys(styleAttributes)) {\n",
              "    element.style[key] = styleAttributes[key];\n",
              "  }\n",
              "  return element;\n",
              "}\n",
              "\n",
              "// Max number of bytes which will be uploaded at a time.\n",
              "const MAX_PAYLOAD_SIZE = 100 * 1024;\n",
              "\n",
              "function _uploadFiles(inputId, outputId) {\n",
              "  const steps = uploadFilesStep(inputId, outputId);\n",
              "  const outputElement = document.getElementById(outputId);\n",
              "  // Cache steps on the outputElement to make it available for the next call\n",
              "  // to uploadFilesContinue from Python.\n",
              "  outputElement.steps = steps;\n",
              "\n",
              "  return _uploadFilesContinue(outputId);\n",
              "}\n",
              "\n",
              "// This is roughly an async generator (not supported in the browser yet),\n",
              "// where there are multiple asynchronous steps and the Python side is going\n",
              "// to poll for completion of each step.\n",
              "// This uses a Promise to block the python side on completion of each step,\n",
              "// then passes the result of the previous step as the input to the next step.\n",
              "function _uploadFilesContinue(outputId) {\n",
              "  const outputElement = document.getElementById(outputId);\n",
              "  const steps = outputElement.steps;\n",
              "\n",
              "  const next = steps.next(outputElement.lastPromiseValue);\n",
              "  return Promise.resolve(next.value.promise).then((value) => {\n",
              "    // Cache the last promise value to make it available to the next\n",
              "    // step of the generator.\n",
              "    outputElement.lastPromiseValue = value;\n",
              "    return next.value.response;\n",
              "  });\n",
              "}\n",
              "\n",
              "/**\n",
              " * Generator function which is called between each async step of the upload\n",
              " * process.\n",
              " * @param {string} inputId Element ID of the input file picker element.\n",
              " * @param {string} outputId Element ID of the output display.\n",
              " * @return {!Iterable<!Object>} Iterable of next steps.\n",
              " */\n",
              "function* uploadFilesStep(inputId, outputId) {\n",
              "  const inputElement = document.getElementById(inputId);\n",
              "  inputElement.disabled = false;\n",
              "\n",
              "  const outputElement = document.getElementById(outputId);\n",
              "  outputElement.innerHTML = '';\n",
              "\n",
              "  const pickedPromise = new Promise((resolve) => {\n",
              "    inputElement.addEventListener('change', (e) => {\n",
              "      resolve(e.target.files);\n",
              "    });\n",
              "  });\n",
              "\n",
              "  const cancel = document.createElement('button');\n",
              "  inputElement.parentElement.appendChild(cancel);\n",
              "  cancel.textContent = 'Cancel upload';\n",
              "  const cancelPromise = new Promise((resolve) => {\n",
              "    cancel.onclick = () => {\n",
              "      resolve(null);\n",
              "    };\n",
              "  });\n",
              "\n",
              "  // Wait for the user to pick the files.\n",
              "  const files = yield {\n",
              "    promise: Promise.race([pickedPromise, cancelPromise]),\n",
              "    response: {\n",
              "      action: 'starting',\n",
              "    }\n",
              "  };\n",
              "\n",
              "  cancel.remove();\n",
              "\n",
              "  // Disable the input element since further picks are not allowed.\n",
              "  inputElement.disabled = true;\n",
              "\n",
              "  if (!files) {\n",
              "    return {\n",
              "      response: {\n",
              "        action: 'complete',\n",
              "      }\n",
              "    };\n",
              "  }\n",
              "\n",
              "  for (const file of files) {\n",
              "    const li = document.createElement('li');\n",
              "    li.append(span(file.name, {fontWeight: 'bold'}));\n",
              "    li.append(span(\n",
              "        `(${file.type || 'n/a'}) - ${file.size} bytes, ` +\n",
              "        `last modified: ${\n",
              "            file.lastModifiedDate ? file.lastModifiedDate.toLocaleDateString() :\n",
              "                                    'n/a'} - `));\n",
              "    const percent = span('0% done');\n",
              "    li.appendChild(percent);\n",
              "\n",
              "    outputElement.appendChild(li);\n",
              "\n",
              "    const fileDataPromise = new Promise((resolve) => {\n",
              "      const reader = new FileReader();\n",
              "      reader.onload = (e) => {\n",
              "        resolve(e.target.result);\n",
              "      };\n",
              "      reader.readAsArrayBuffer(file);\n",
              "    });\n",
              "    // Wait for the data to be ready.\n",
              "    let fileData = yield {\n",
              "      promise: fileDataPromise,\n",
              "      response: {\n",
              "        action: 'continue',\n",
              "      }\n",
              "    };\n",
              "\n",
              "    // Use a chunked sending to avoid message size limits. See b/62115660.\n",
              "    let position = 0;\n",
              "    do {\n",
              "      const length = Math.min(fileData.byteLength - position, MAX_PAYLOAD_SIZE);\n",
              "      const chunk = new Uint8Array(fileData, position, length);\n",
              "      position += length;\n",
              "\n",
              "      const base64 = btoa(String.fromCharCode.apply(null, chunk));\n",
              "      yield {\n",
              "        response: {\n",
              "          action: 'append',\n",
              "          file: file.name,\n",
              "          data: base64,\n",
              "        },\n",
              "      };\n",
              "\n",
              "      let percentDone = fileData.byteLength === 0 ?\n",
              "          100 :\n",
              "          Math.round((position / fileData.byteLength) * 100);\n",
              "      percent.textContent = `${percentDone}% done`;\n",
              "\n",
              "    } while (position < fileData.byteLength);\n",
              "  }\n",
              "\n",
              "  // All done.\n",
              "  yield {\n",
              "    response: {\n",
              "      action: 'complete',\n",
              "    }\n",
              "  };\n",
              "}\n",
              "\n",
              "scope.google = scope.google || {};\n",
              "scope.google.colab = scope.google.colab || {};\n",
              "scope.google.colab._files = {\n",
              "  _uploadFiles,\n",
              "  _uploadFilesContinue,\n",
              "};\n",
              "})(self);\n",
              "</script> "
            ]
          },
          "metadata": {}
        },
        {
          "output_type": "stream",
          "name": "stdout",
          "text": [
            "Saving rcsb_pdb_4IP8.fasta to rcsb_pdb_4IP8 (1).fasta\n"
          ]
        }
      ]
    },
    {
      "cell_type": "code",
      "source": [
        "#Reading the FASTA sequence"
      ],
      "metadata": {
        "id": "_CPBk7qcnj3v"
      },
      "execution_count": 8,
      "outputs": []
    },
    {
      "cell_type": "code",
      "source": [
        "# Get the file name of the uploaded file\n",
        "uploaded_file_name = next(iter(uploaded.keys()))"
      ],
      "metadata": {
        "id": "ySniWb4cn8iG"
      },
      "execution_count": 9,
      "outputs": []
    },
    {
      "cell_type": "code",
      "source": [
        "# Read the FASTA sequence from the uploaded file\n",
        "fasta_path = f\"/content/{uploaded_file_name}\"\n",
        "with open(fasta_path, 'r') as fasta_file:\n",
        "    protein_seq = next(SeqIO.parse(fasta_file, 'fasta')).seq"
      ],
      "metadata": {
        "id": "M2jOt080n82O"
      },
      "execution_count": 10,
      "outputs": []
    },
    {
      "cell_type": "code",
      "source": [
        "print(\"Protein sequence:\")\n",
        "print(protein_seq)"
      ],
      "metadata": {
        "colab": {
          "base_uri": "https://localhost:8080/"
        },
        "id": "VdsIV4_IoA0c",
        "outputId": "b0862a1f-d89c-48f1-fb09-6063310fe0c2"
      },
      "execution_count": 11,
      "outputs": [
        {
          "output_type": "stream",
          "name": "stdout",
          "text": [
            "Protein sequence:\n",
            "MRSFFSFLGEAFDGARDMWRAYSDMREANYIGSDKYFHARGNYDAAKRGPGGVWAAEAISDARENIQRFFGHGAEDSLADQAANEWGRSGKDPNHFRPAGLPEKY\n"
          ]
        }
      ]
    },
    {
      "cell_type": "code",
      "source": [
        "from google.colab import files\n",
        "\n",
        "# Upload the FASTA file\n",
        "uploaded = files.upload()"
      ],
      "metadata": {
        "colab": {
          "base_uri": "https://localhost:8080/",
          "height": 73
        },
        "id": "DoBhDPkVpkU5",
        "outputId": "2f4fe96f-6bbd-4a43-d02e-bb119852a669"
      },
      "execution_count": 12,
      "outputs": [
        {
          "output_type": "display_data",
          "data": {
            "text/plain": [
              "<IPython.core.display.HTML object>"
            ],
            "text/html": [
              "\n",
              "     <input type=\"file\" id=\"files-902b48c5-aee0-4b35-a547-65b2d265f0c4\" name=\"files[]\" multiple disabled\n",
              "        style=\"border:none\" />\n",
              "     <output id=\"result-902b48c5-aee0-4b35-a547-65b2d265f0c4\">\n",
              "      Upload widget is only available when the cell has been executed in the\n",
              "      current browser session. Please rerun this cell to enable.\n",
              "      </output>\n",
              "      <script>// Copyright 2017 Google LLC\n",
              "//\n",
              "// Licensed under the Apache License, Version 2.0 (the \"License\");\n",
              "// you may not use this file except in compliance with the License.\n",
              "// You may obtain a copy of the License at\n",
              "//\n",
              "//      http://www.apache.org/licenses/LICENSE-2.0\n",
              "//\n",
              "// Unless required by applicable law or agreed to in writing, software\n",
              "// distributed under the License is distributed on an \"AS IS\" BASIS,\n",
              "// WITHOUT WARRANTIES OR CONDITIONS OF ANY KIND, either express or implied.\n",
              "// See the License for the specific language governing permissions and\n",
              "// limitations under the License.\n",
              "\n",
              "/**\n",
              " * @fileoverview Helpers for google.colab Python module.\n",
              " */\n",
              "(function(scope) {\n",
              "function span(text, styleAttributes = {}) {\n",
              "  const element = document.createElement('span');\n",
              "  element.textContent = text;\n",
              "  for (const key of Object.keys(styleAttributes)) {\n",
              "    element.style[key] = styleAttributes[key];\n",
              "  }\n",
              "  return element;\n",
              "}\n",
              "\n",
              "// Max number of bytes which will be uploaded at a time.\n",
              "const MAX_PAYLOAD_SIZE = 100 * 1024;\n",
              "\n",
              "function _uploadFiles(inputId, outputId) {\n",
              "  const steps = uploadFilesStep(inputId, outputId);\n",
              "  const outputElement = document.getElementById(outputId);\n",
              "  // Cache steps on the outputElement to make it available for the next call\n",
              "  // to uploadFilesContinue from Python.\n",
              "  outputElement.steps = steps;\n",
              "\n",
              "  return _uploadFilesContinue(outputId);\n",
              "}\n",
              "\n",
              "// This is roughly an async generator (not supported in the browser yet),\n",
              "// where there are multiple asynchronous steps and the Python side is going\n",
              "// to poll for completion of each step.\n",
              "// This uses a Promise to block the python side on completion of each step,\n",
              "// then passes the result of the previous step as the input to the next step.\n",
              "function _uploadFilesContinue(outputId) {\n",
              "  const outputElement = document.getElementById(outputId);\n",
              "  const steps = outputElement.steps;\n",
              "\n",
              "  const next = steps.next(outputElement.lastPromiseValue);\n",
              "  return Promise.resolve(next.value.promise).then((value) => {\n",
              "    // Cache the last promise value to make it available to the next\n",
              "    // step of the generator.\n",
              "    outputElement.lastPromiseValue = value;\n",
              "    return next.value.response;\n",
              "  });\n",
              "}\n",
              "\n",
              "/**\n",
              " * Generator function which is called between each async step of the upload\n",
              " * process.\n",
              " * @param {string} inputId Element ID of the input file picker element.\n",
              " * @param {string} outputId Element ID of the output display.\n",
              " * @return {!Iterable<!Object>} Iterable of next steps.\n",
              " */\n",
              "function* uploadFilesStep(inputId, outputId) {\n",
              "  const inputElement = document.getElementById(inputId);\n",
              "  inputElement.disabled = false;\n",
              "\n",
              "  const outputElement = document.getElementById(outputId);\n",
              "  outputElement.innerHTML = '';\n",
              "\n",
              "  const pickedPromise = new Promise((resolve) => {\n",
              "    inputElement.addEventListener('change', (e) => {\n",
              "      resolve(e.target.files);\n",
              "    });\n",
              "  });\n",
              "\n",
              "  const cancel = document.createElement('button');\n",
              "  inputElement.parentElement.appendChild(cancel);\n",
              "  cancel.textContent = 'Cancel upload';\n",
              "  const cancelPromise = new Promise((resolve) => {\n",
              "    cancel.onclick = () => {\n",
              "      resolve(null);\n",
              "    };\n",
              "  });\n",
              "\n",
              "  // Wait for the user to pick the files.\n",
              "  const files = yield {\n",
              "    promise: Promise.race([pickedPromise, cancelPromise]),\n",
              "    response: {\n",
              "      action: 'starting',\n",
              "    }\n",
              "  };\n",
              "\n",
              "  cancel.remove();\n",
              "\n",
              "  // Disable the input element since further picks are not allowed.\n",
              "  inputElement.disabled = true;\n",
              "\n",
              "  if (!files) {\n",
              "    return {\n",
              "      response: {\n",
              "        action: 'complete',\n",
              "      }\n",
              "    };\n",
              "  }\n",
              "\n",
              "  for (const file of files) {\n",
              "    const li = document.createElement('li');\n",
              "    li.append(span(file.name, {fontWeight: 'bold'}));\n",
              "    li.append(span(\n",
              "        `(${file.type || 'n/a'}) - ${file.size} bytes, ` +\n",
              "        `last modified: ${\n",
              "            file.lastModifiedDate ? file.lastModifiedDate.toLocaleDateString() :\n",
              "                                    'n/a'} - `));\n",
              "    const percent = span('0% done');\n",
              "    li.appendChild(percent);\n",
              "\n",
              "    outputElement.appendChild(li);\n",
              "\n",
              "    const fileDataPromise = new Promise((resolve) => {\n",
              "      const reader = new FileReader();\n",
              "      reader.onload = (e) => {\n",
              "        resolve(e.target.result);\n",
              "      };\n",
              "      reader.readAsArrayBuffer(file);\n",
              "    });\n",
              "    // Wait for the data to be ready.\n",
              "    let fileData = yield {\n",
              "      promise: fileDataPromise,\n",
              "      response: {\n",
              "        action: 'continue',\n",
              "      }\n",
              "    };\n",
              "\n",
              "    // Use a chunked sending to avoid message size limits. See b/62115660.\n",
              "    let position = 0;\n",
              "    do {\n",
              "      const length = Math.min(fileData.byteLength - position, MAX_PAYLOAD_SIZE);\n",
              "      const chunk = new Uint8Array(fileData, position, length);\n",
              "      position += length;\n",
              "\n",
              "      const base64 = btoa(String.fromCharCode.apply(null, chunk));\n",
              "      yield {\n",
              "        response: {\n",
              "          action: 'append',\n",
              "          file: file.name,\n",
              "          data: base64,\n",
              "        },\n",
              "      };\n",
              "\n",
              "      let percentDone = fileData.byteLength === 0 ?\n",
              "          100 :\n",
              "          Math.round((position / fileData.byteLength) * 100);\n",
              "      percent.textContent = `${percentDone}% done`;\n",
              "\n",
              "    } while (position < fileData.byteLength);\n",
              "  }\n",
              "\n",
              "  // All done.\n",
              "  yield {\n",
              "    response: {\n",
              "      action: 'complete',\n",
              "    }\n",
              "  };\n",
              "}\n",
              "\n",
              "scope.google = scope.google || {};\n",
              "scope.google.colab = scope.google.colab || {};\n",
              "scope.google.colab._files = {\n",
              "  _uploadFiles,\n",
              "  _uploadFilesContinue,\n",
              "};\n",
              "})(self);\n",
              "</script> "
            ]
          },
          "metadata": {}
        },
        {
          "output_type": "stream",
          "name": "stdout",
          "text": [
            "Saving rcsb_pdb_4Q5G.fasta to rcsb_pdb_4Q5G.fasta\n"
          ]
        }
      ]
    },
    {
      "cell_type": "code",
      "source": [
        "# Get the file name of the uploaded file\n",
        "uploaded_file_name = next(iter(uploaded.keys()))"
      ],
      "metadata": {
        "id": "t9NtZJMEpk5A"
      },
      "execution_count": 13,
      "outputs": []
    },
    {
      "cell_type": "code",
      "source": [
        "# Read the FASTA sequence from the uploaded file\n",
        "fasta_path = f\"/content/{uploaded_file_name}\"\n",
        "with open(fasta_path, 'r') as fasta_file:\n",
        "    protein_seq = next(SeqIO.parse(fasta_file, 'fasta')).seq"
      ],
      "metadata": {
        "id": "t0-4qNy2pqh_"
      },
      "execution_count": 14,
      "outputs": []
    },
    {
      "cell_type": "code",
      "source": [
        "print(\"Protein sequence2:\")\n",
        "print(protein_seq)"
      ],
      "metadata": {
        "colab": {
          "base_uri": "https://localhost:8080/"
        },
        "id": "b83KJ5Bxpsq-",
        "outputId": "60f587ba-84f5-4625-9c61-21a89d6b4e35"
      },
      "execution_count": 16,
      "outputs": [
        {
          "output_type": "stream",
          "name": "stdout",
          "text": [
            "Protein sequence2:\n",
            "QRWVQFMKEAGQGSRDMWRAYSDMKKANWKNSDKYFHARGNYDAARRGPGGAWAAKVISDAREAVQKFTGHGAEDSRADQFANEWGRSGKDPNHFRPAGLPKRY\n"
          ]
        }
      ]
    },
    {
      "cell_type": "code",
      "source": [
        "#Protein sequence is human amylod protein and Protein sequence 2 is Mus musculus amyloid protein"
      ],
      "metadata": {
        "id": "vAlMFw9opyB7"
      },
      "execution_count": 17,
      "outputs": []
    },
    {
      "cell_type": "code",
      "source": [
        "#Needleman-Wunsch algorithm, which is suitable for global sequence alignment."
      ],
      "metadata": {
        "id": "hJt_pO6wqIO2"
      },
      "execution_count": 18,
      "outputs": []
    },
    {
      "cell_type": "code",
      "source": [
        "from Bio import pairwise2\n",
        "from Bio.Seq import Seq\n",
        "\n",
        "# Define the sequences\n",
        "seq1 = \"MRSFFSFLGEAFDGARDMWRAYSDMREANYIGSDKYFHARGNYDAAKRGPGGVWAAEAISDARENIQRFFGHGAEDSLADQAANEWGRSGKDPNHFRPAGLPEKY\"\n",
        "seq2 = \"QRWVQFMKEAGQGSRDMWRAYSDMKKANWKNSDKYFHARGNYDAARRGPGGAWAAKVISDAREAVQKFTGHGAEDSRADQFANEWGRSGKDPNHFRPAGLPKRY\"\n",
        "\n",
        "# Convert the sequences to Biopython Seq objects\n",
        "seq1_biopython = Seq(seq1)\n",
        "seq2_biopython = Seq(seq2)\n",
        "\n",
        "# Perform global sequence alignment using the Needleman-Wunsch algorithm\n",
        "alignments = pairwise2.align.globalxx(seq1_biopython, seq2_biopython)\n",
        "\n",
        "# Get the first alignment (there can be more than one)\n",
        "alignment = alignments[0]\n",
        "\n",
        "# Extract the aligned sequences and the alignment score\n",
        "aligned_seq1 = alignment.seqA\n",
        "aligned_seq2 = alignment.seqB\n",
        "alignment_score = alignment.score\n",
        "\n",
        "# Print the results\n",
        "print(\"Aligned Sequence 1:\", aligned_seq1)\n",
        "print(\"Aligned Sequence 2:\", aligned_seq2)\n",
        "print(\"Alignment Score:\", alignment_score)\n"
      ],
      "metadata": {
        "colab": {
          "base_uri": "https://localhost:8080/"
        },
        "id": "VzD_u5nWqaT4",
        "outputId": "82907baf-3978-403f-c271-71b28d132113"
      },
      "execution_count": 19,
      "outputs": [
        {
          "output_type": "stream",
          "name": "stdout",
          "text": [
            "Aligned Sequence 1: M-RSFFS---FLG--EAFDGA---RDMWRAYSDMRE--ANYIG---SDKYFHARGNYDAAKR-GPGGVWA-AEA--ISDARENI--QRF-F-GHGAEDSL-ADQA-ANEWGRSGKDPNHFRPAGLPEK-Y\n",
            "Aligned Sequence 2: -QR----WVQF--MKEA--G-QGSRDMWRAYSDM--KKAN---WKNSDKYFHARGNYDAA-RRGPGG--AWA-AKVISDARE--AVQ--KFTGHGAEDS-RADQ-FANEWGRSGKDPNHFRPAGLP-KRY\n",
            "Alignment Score: 79.0\n"
          ]
        },
        {
          "output_type": "stream",
          "name": "stderr",
          "text": [
            "/usr/local/lib/python3.10/dist-packages/Bio/pairwise2.py:278: BiopythonDeprecationWarning: Bio.pairwise2 has been deprecated, and we intend to remove it in a future release of Biopython. As an alternative, please consider using Bio.Align.PairwiseAligner as a replacement, and contact the Biopython developers if you still need the Bio.pairwise2 module.\n",
            "  warnings.warn(\n"
          ]
        }
      ]
    },
    {
      "cell_type": "code",
      "source": [
        "#THERE ARE 79 posiitions in these 2 sequences that have similarities, so 79 amino acids are aligned."
      ],
      "metadata": {
        "id": "J2ao9OObqgiO"
      },
      "execution_count": 20,
      "outputs": []
    },
    {
      "cell_type": "code",
      "source": [
        "# detection of  the amino acid present the most in  both sequences"
      ],
      "metadata": {
        "id": "xt1i97ZarEHP"
      },
      "execution_count": 21,
      "outputs": []
    },
    {
      "cell_type": "code",
      "source": [
        "# Aligned sequences obtained from the previous step\n",
        "aligned_seq1 = \"MRSFFSFLGEAFDGARDMWRAYSDMREANYIGSDKYFHARGNYDAAKRGPGGVWAAEAISDARENIQRFFGHGAEDSLADQAANEWGRSGKDPNHFRPAGLPEKY\"\n",
        "aligned_seq2 = \"QRWVQFMKEAGQGSRDMWRAYSDMKKANWKNSDKYFHARGNYDAARRGPGGAWAAKVISDAREAVQKFTGHGAEDSRADQFANEWGRSGKDPNHFRPAGLPKRY\"\n",
        "\n",
        "# Combine the two aligned sequences to analyze them together\n",
        "combined_aligned = aligned_seq1 + aligned_seq2\n",
        "\n",
        "# Create a dictionary to store the count of each amino acid\n",
        "amino_acid_count = {}\n",
        "\n",
        "# Count the occurrences of each amino acid in the combined aligned sequences\n",
        "for amino_acid in combined_aligned:\n",
        "    if amino_acid != '-':  # Exclude gaps from counting\n",
        "        amino_acid_count[amino_acid] = amino_acid_count.get(amino_acid, 0) + 1\n",
        "\n",
        "# Find the amino acid that appears the most in both sequences\n",
        "most_common_amino_acid = max(amino_acid_count, key=amino_acid_count.get)\n",
        "max_count = amino_acid_count[most_common_amino_acid]\n",
        "\n",
        "print(\"Most common amino acid:\", most_common_amino_acid)\n",
        "print(\"Count:\", max_count)\n"
      ],
      "metadata": {
        "colab": {
          "base_uri": "https://localhost:8080/"
        },
        "id": "R4T5gYaCr3xg",
        "outputId": "9c380f3b-97b0-41b2-c33e-0f15ee40cbb1"
      },
      "execution_count": 22,
      "outputs": [
        {
          "output_type": "stream",
          "name": "stdout",
          "text": [
            "Most common amino acid: A\n",
            "Count: 31\n"
          ]
        }
      ]
    },
    {
      "cell_type": "code",
      "source": [
        "# here we conclude that Alanine is present in both the sequences."
      ],
      "metadata": {
        "id": "UR4B4wC_r_YJ"
      },
      "execution_count": 23,
      "outputs": []
    },
    {
      "cell_type": "code",
      "source": [
        "#Detecting various types of protein and their amount in these 2 sequences"
      ],
      "metadata": {
        "id": "5s8kq2GZsPce"
      },
      "execution_count": 24,
      "outputs": []
    },
    {
      "cell_type": "code",
      "source": [
        "from Bio.Seq import Seq\n",
        "from Bio.Alphabet import IUPAC\n",
        "\n",
        "# Aligned sequences obtained from the previous step\n",
        "aligned_seq1 = \"MRSFFSFLGEAFDGARDMWRAYSDMREANYIGSDKYFHARGNYDAAKRGPGGVWAAEAISDARENIQRFFGHGAEDSLADQAANEWGRSGKDPNHFRPAGLPEKY\"\n",
        "aligned_seq2 = \"QRWVQFMKEAGQGSRDMWRAYSDMKKANWKNSDKYFHARGNYDAARRGPGGAWAAKVISDAREAVQKFTGHGAEDSRADQFANEWGRSGKDPNHFRPAGLPKRY\"\n",
        "\n",
        "# Convert the aligned sequences to Biopython Seq objects\n",
        "seq1_biopython = Seq(aligned_seq1, IUPAC.protein)\n",
        "seq2_biopython = Seq(aligned_seq2, IUPAC.protein)\n",
        "\n",
        "# Print the sequences\n",
        "print(\"Aligned Sequence 1:\", seq1_biopython)\n",
        "print(\"Aligned Sequence 2:\", seq2_biopython)\n"
      ],
      "metadata": {
        "colab": {
          "base_uri": "https://localhost:8080/",
          "height": 565
        },
        "id": "8S3KK1_msdge",
        "outputId": "bbe57c77-2cf6-4e3d-cdca-5fe78618da0c"
      },
      "execution_count": 25,
      "outputs": [
        {
          "output_type": "error",
          "ename": "ImportError",
          "evalue": "ignored",
          "traceback": [
            "\u001b[0;31m---------------------------------------------------------------------------\u001b[0m",
            "\u001b[0;31mImportError\u001b[0m                               Traceback (most recent call last)",
            "\u001b[0;32m<ipython-input-25-bc42be3be9a9>\u001b[0m in \u001b[0;36m<cell line: 2>\u001b[0;34m()\u001b[0m\n\u001b[1;32m      1\u001b[0m \u001b[0;32mfrom\u001b[0m \u001b[0mBio\u001b[0m\u001b[0;34m.\u001b[0m\u001b[0mSeq\u001b[0m \u001b[0;32mimport\u001b[0m \u001b[0mSeq\u001b[0m\u001b[0;34m\u001b[0m\u001b[0;34m\u001b[0m\u001b[0m\n\u001b[0;32m----> 2\u001b[0;31m \u001b[0;32mfrom\u001b[0m \u001b[0mBio\u001b[0m\u001b[0;34m.\u001b[0m\u001b[0mAlphabet\u001b[0m \u001b[0;32mimport\u001b[0m \u001b[0mIUPAC\u001b[0m\u001b[0;34m\u001b[0m\u001b[0;34m\u001b[0m\u001b[0m\n\u001b[0m\u001b[1;32m      3\u001b[0m \u001b[0;34m\u001b[0m\u001b[0m\n\u001b[1;32m      4\u001b[0m \u001b[0;31m# Aligned sequences obtained from the previous step\u001b[0m\u001b[0;34m\u001b[0m\u001b[0;34m\u001b[0m\u001b[0m\n\u001b[1;32m      5\u001b[0m \u001b[0maligned_seq1\u001b[0m \u001b[0;34m=\u001b[0m \u001b[0;34m\"MRSFFSFLGEAFDGARDMWRAYSDMREANYIGSDKYFHARGNYDAAKRGPGGVWAAEAISDARENIQRFFGHGAEDSLADQAANEWGRSGKDPNHFRPAGLPEKY\"\u001b[0m\u001b[0;34m\u001b[0m\u001b[0;34m\u001b[0m\u001b[0m\n",
            "\u001b[0;32m/usr/local/lib/python3.10/dist-packages/Bio/Alphabet/__init__.py\u001b[0m in \u001b[0;36m<module>\u001b[0;34m\u001b[0m\n\u001b[1;32m     18\u001b[0m \"\"\"\n\u001b[1;32m     19\u001b[0m \u001b[0;34m\u001b[0m\u001b[0m\n\u001b[0;32m---> 20\u001b[0;31m raise ImportError(\n\u001b[0m\u001b[1;32m     21\u001b[0m     \u001b[0;34m\"Bio.Alphabet has been removed from Biopython. In many cases, the alphabet can simply be ignored and removed from scripts. In a few cases, you may need to specify the ``molecule_type`` as an annotation on a SeqRecord for your script to work correctly. Please see https://biopython.org/wiki/Alphabet for more information.\"\u001b[0m\u001b[0;34m\u001b[0m\u001b[0;34m\u001b[0m\u001b[0m\n\u001b[1;32m     22\u001b[0m )\n",
            "\u001b[0;31mImportError\u001b[0m: Bio.Alphabet has been removed from Biopython. In many cases, the alphabet can simply be ignored and removed from scripts. In a few cases, you may need to specify the ``molecule_type`` as an annotation on a SeqRecord for your script to work correctly. Please see https://biopython.org/wiki/Alphabet for more information.",
            "",
            "\u001b[0;31m---------------------------------------------------------------------------\u001b[0;32m\nNOTE: If your import is failing due to a missing package, you can\nmanually install dependencies using either !pip or !apt.\n\nTo view examples of installing some common dependencies, click the\n\"Open Examples\" button below.\n\u001b[0;31m---------------------------------------------------------------------------\u001b[0m\n"
          ],
          "errorDetails": {
            "actions": [
              {
                "action": "open_url",
                "actionText": "Open Examples",
                "url": "/notebooks/snippets/importing_libraries.ipynb"
              }
            ]
          }
        }
      ]
    },
    {
      "cell_type": "code",
      "source": [
        "from Bio.Seq import Seq\n",
        "\n",
        "# Aligned sequences obtained from the previous step\n",
        "aligned_seq1 = \"MRSFFSFLGEAFDGARDMWRAYSDMREANYIGSDKYFHARGNYDAAKRGPGGVWAAEAISDARENIQRFFGHGAEDSLADQAANEWGRSGKDPNHFRPAGLPEKY\"\n",
        "aligned_seq2 = \"QRWVQFMKEAGQGSRDMWRAYSDMKKANWKNSDKYFHARGNYDAARRGPGGAWAAKVISDAREAVQKFTGHGAEDSRADQFANEWGRSGKDPNHFRPAGLPKRY\"\n",
        "\n",
        "# Convert the aligned sequences to Biopython Seq objects\n",
        "seq1_biopython = Seq(aligned_seq1)\n",
        "seq2_biopython = Seq(aligned_seq2)\n",
        "\n",
        "# Print the sequences\n",
        "print(\"Aligned Sequence 1:\", seq1_biopython)\n",
        "print(\"Aligned Sequence 2:\", seq2_biopython)\n"
      ],
      "metadata": {
        "colab": {
          "base_uri": "https://localhost:8080/"
        },
        "id": "Q4QLulfhsv5m",
        "outputId": "2c561397-a726-473d-dd20-9cbbd846124d"
      },
      "execution_count": 26,
      "outputs": [
        {
          "output_type": "stream",
          "name": "stdout",
          "text": [
            "Aligned Sequence 1: MRSFFSFLGEAFDGARDMWRAYSDMREANYIGSDKYFHARGNYDAAKRGPGGVWAAEAISDARENIQRFFGHGAEDSLADQAANEWGRSGKDPNHFRPAGLPEKY\n",
            "Aligned Sequence 2: QRWVQFMKEAGQGSRDMWRAYSDMKKANWKNSDKYFHARGNYDAARRGPGGAWAAKVISDAREAVQKFTGHGAEDSRADQFANEWGRSGKDPNHFRPAGLPKRY\n"
          ]
        }
      ]
    },
    {
      "cell_type": "code",
      "source": [
        "from Bio import pairwise2\n",
        "from Bio.pairwise2 import format_alignment\n",
        "\n",
        "# Aligned sequences obtained from the previous step\n",
        "aligned_seq1 = \"MRSFFSFLGEAFDGARDMWRAYSDMREANYIGSDKYFHARGNYDAAKRGPGGVWAAEAISDARENIQRFFGHGAEDSLADQAANEWGRSGKDPNHFRPAGLPEKY\"\n",
        "aligned_seq2 = \"QRWVQFMKEAGQGSRDMWRAYSDMKKANWKNSDKYFHARGNYDAARRGPGGAWAAKVISDAREAVQKFTGHGAEDSRADQFANEWGRSGKDPNHFRPAGLPKRY\"\n",
        "\n",
        "# Perform global sequence alignment using the Needleman-Wunsch algorithm\n",
        "alignments = pairwise2.align.globalxx(aligned_seq1, aligned_seq2)\n",
        "\n",
        "# Get the first alignment (there can be more than one)\n",
        "alignment = alignments[0]\n",
        "\n",
        "# Format the alignment for visualization\n",
        "alignment_str = format_alignment(*alignment)\n",
        "\n",
        "# Print the alignment\n",
        "print(alignment_str)\n"
      ],
      "metadata": {
        "colab": {
          "base_uri": "https://localhost:8080/"
        },
        "id": "-N4prslcs6gD",
        "outputId": "24f4fd30-d311-410a-e0cd-328b0e384118"
      },
      "execution_count": 27,
      "outputs": [
        {
          "output_type": "stream",
          "name": "stdout",
          "text": [
            "M-RSFFS---FLG--EAFDGA---RDMWRAYSDMRE--ANYIG---SDKYFHARGNYDAAKR-GPGGVWA-AEA--ISDARENI--QRF-F-GHGAEDSL-ADQA-ANEWGRSGKDPNHFRPAGLPEK-Y\n",
            "  |       |    ||  |    ||||||||||    ||      |||||||||||||| | ||||  | | |  ||||||    |   | |||||||  |||  |||||||||||||||||||| | |\n",
            "-QR----WVQF--MKEA--G-QGSRDMWRAYSDM--KKAN---WKNSDKYFHARGNYDAA-RRGPGG--AWA-AKVISDARE--AVQ--KFTGHGAEDS-RADQ-FANEWGRSGKDPNHFRPAGLP-KRY\n",
            "  Score=79\n",
            "\n"
          ]
        }
      ]
    },
    {
      "cell_type": "code",
      "source": [
        "#The \"|\" character indicates that the amino acids at that position in both sequences are identical."
      ],
      "metadata": {
        "id": "ZajTNCkMtGzM"
      },
      "execution_count": 28,
      "outputs": []
    },
    {
      "cell_type": "code",
      "source": [
        "#The gaps (\"-\") indicate that there is an insertion or deletion in one of the sequences relative to the other"
      ],
      "metadata": {
        "id": "OFqKxHwntbMF"
      },
      "execution_count": 29,
      "outputs": []
    },
    {
      "cell_type": "code",
      "source": [
        "#mutations in the sequence can lead to changes, and in order to detect that changes we will need to first look into the details of which deletion or insertion can affect the whole sequence."
      ],
      "metadata": {
        "id": "sLpgC3kEtdZ-"
      },
      "execution_count": 30,
      "outputs": []
    },
    {
      "cell_type": "code",
      "source": [],
      "metadata": {
        "id": "dzXRElvavjm9"
      },
      "execution_count": null,
      "outputs": []
    },
    {
      "cell_type": "markdown",
      "source": [
        "In nature, amino acids are found in two forms, L and D enantiomers, except for glycine which does not have a chiral center. The change of one form to the other will lead to a change in the primary structure of proteins and hence may affect the function and biological activity of proteins.\n"
      ],
      "metadata": {
        "id": "OUpx6U_mv9v9"
      }
    },
    {
      "cell_type": "code",
      "source": [],
      "metadata": {
        "id": "b4Q0X-jFw4ak"
      },
      "execution_count": null,
      "outputs": []
    },
    {
      "cell_type": "markdown",
      "source": [
        "#From the source\n",
        "#Cells. 2022 Nov; 11(21): 3523.\n",
        "#Published online 2022 Nov 7. doi: 10.3390/cells11213523\n",
        "#PMCID: PMC9658564\n",
        "#PMID: 36359919\n",
        "\n",
        "Branched-Chain Amino Acids Are Linked with Alzheimer’s Disease-Related Pathology and Cognitive Deficits\n",
        "Md Abu Bakkar Siddik,1 Caitlyn A. Mullins,2 Alyssa Kramer,2 Harsh Shah,2 Ritchel B. Gannaban,2 Masoud Zabet-Moghaddam,3 Ryan M. Huebinger,4 Vijay K. Hegde,1 Sheba M. J. MohanKumar,5 Puliyur S. MohanKumar,5 and Andrew C. Shin2,*\n",
        "Lars Ove Brandenburg, Academic Editor"
      ],
      "metadata": {
        "id": "6L17S7nDyLqJ"
      }
    },
    {
      "cell_type": "markdown",
      "source": [],
      "metadata": {
        "id": "7KRH9sLJyl4j"
      }
    },
    {
      "cell_type": "code",
      "source": [
        "#we will detect the branched chain amino acids in the protein sequence 1 - Serum amyloid A-1 protein"
      ],
      "metadata": {
        "id": "hn5fZffDyTOy"
      },
      "execution_count": 33,
      "outputs": []
    },
    {
      "cell_type": "markdown",
      "source": [
        "To find the branched-chain amino acids (BCAAs) in the protein sequence, you can look for the three amino acids that are classified as BCAAs: leucine (L), isoleucine (I), and valine (V). These amino acids are essential for protein synthesis and are characterized by having a branched side chain."
      ],
      "metadata": {
        "id": "-A-39Z9qyqre"
      }
    },
    {
      "cell_type": "code",
      "source": [
        "from Bio.Seq import Seq\n",
        "\n",
        "# Protein sequence\n",
        "protein_sequence = \"MRSFFSFLGEAFDGARDMWRAYSDMREANYIGSDKYFHARGNYDAAKRGPGGVWAAEAISDARENIQRFFGHGAEDSLADQAANEWGRSGKDPNHFRPAGLPEKY\"\n",
        "\n",
        "# Convert the sequence to a Biopython Seq object\n",
        "seq_obj = Seq(protein_sequence)\n",
        "\n",
        "# Define the list of branched-chain amino acids (BCAAs)\n",
        "bcaas = ['L', 'I', 'V']\n",
        "\n",
        "# Initialize a list to store the positions of BCAAs\n",
        "bcaa_positions = []\n",
        "\n",
        "# Iterate through the sequence and find BCAAs\n",
        "for i, amino_acid in enumerate(seq_obj):\n",
        "    if amino_acid in bcaas:\n",
        "        bcaa_positions.append(i)\n",
        "\n",
        "# Print the positions of BCAAs\n",
        "print(\"Positions of branched-chain amino acids (BCAAs):\", bcaa_positions)\n"
      ],
      "metadata": {
        "colab": {
          "base_uri": "https://localhost:8080/"
        },
        "id": "l8BfS1piyrhl",
        "outputId": "50b355d1-da76-498a-d468-831663001507"
      },
      "execution_count": 34,
      "outputs": [
        {
          "output_type": "stream",
          "name": "stdout",
          "text": [
            "Positions of branched-chain amino acids (BCAAs): [7, 30, 52, 58, 65, 77, 100]\n"
          ]
        }
      ]
    },
    {
      "cell_type": "code",
      "source": [],
      "metadata": {
        "id": "0K3C6jlwy0nh"
      },
      "execution_count": null,
      "outputs": []
    },
    {
      "cell_type": "markdown",
      "source": [
        "The output \"Positions of branched-chain amino acids (BCAAs): [7, 30, 52, 58, 65, 77, 100]\" means that in the given protein sequence, the branched-chain amino acids (BCAAs) are present at the following positions:\n",
        "\n",
        "BCAA at position 7: Leucine (L)\n",
        "BCAA at position 30: Isoleucine (I)\n",
        "BCAA at position 52: Valine (V)\n",
        "BCAA at position 58: Valine (V)\n",
        "BCAA at position 65: Leucine (L)\n",
        "BCAA at position 77: Leucine (L)\n",
        "BCAA at position 100: Isoleucine (I)\n",
        "The numbers in the list represent the 0-based indices of the BCAAs in the protein sequence. Each position corresponds to the location of a BCAA within the sequence, indicating the specific amino acid and its position in the protein chain.\n",
        "\n",
        "In the given protein sequence, the BCAAs are distributed at various positions, which is common in protein sequences since they have specific roles in protein structure and function. BCAAs are essential amino acids and play important roles in various biological processes, including protein synthesis, metabolism, and energy production.\n",
        "\n",
        "\n",
        "\n",
        "\n",
        "\n"
      ],
      "metadata": {
        "id": "hwCyJ_T7y_XO"
      }
    },
    {
      "cell_type": "code",
      "source": [
        "#now we will find the position of branched chain amino acids in protein 2 - Crystal Structure of mouse Serum Amyloid A3"
      ],
      "metadata": {
        "id": "RJ0kWypizIsI"
      },
      "execution_count": 35,
      "outputs": []
    },
    {
      "cell_type": "code",
      "source": [
        "from Bio.Seq import Seq\n",
        "\n",
        "# Protein sequence\n",
        "protein_sequence = \"QRWVQFMKEAGQGSRDMWRAYSDMKKANWKNSDKYFHARGNYDAARRGPGGAWAAKVISDAREAVQKFTGHGAEDSRADQFANEWGRSGKDPNHFRPAGLPKRY\"\n",
        "\n",
        "# Convert the sequence to a Biopython Seq object\n",
        "seq_obj = Seq(protein_sequence)\n",
        "\n",
        "# Define the list of branched-chain amino acids (BCAAs)\n",
        "bcaas = ['L', 'I', 'V']\n",
        "\n",
        "# Initialize a list to store the positions of BCAAs\n",
        "bcaa_positions = []\n",
        "\n",
        "# Iterate through the sequence and find BCAAs\n",
        "for i, amino_acid in enumerate(seq_obj):\n",
        "    if amino_acid in bcaas:\n",
        "        bcaa_positions.append(i)\n",
        "\n",
        "# Print the positions of BCAAs\n",
        "print(\"Positions of branched-chain amino acids (BCAAs):\", bcaa_positions)\n"
      ],
      "metadata": {
        "colab": {
          "base_uri": "https://localhost:8080/"
        },
        "id": "50eSQ3EUze4c",
        "outputId": "402ca4d5-c0f9-4d5c-f41b-086599ade70b"
      },
      "execution_count": 36,
      "outputs": [
        {
          "output_type": "stream",
          "name": "stdout",
          "text": [
            "Positions of branched-chain amino acids (BCAAs): [3, 56, 57, 64, 99]\n"
          ]
        }
      ]
    },
    {
      "cell_type": "code",
      "source": [],
      "metadata": {
        "id": "Gmm2_WlYztUa"
      },
      "execution_count": null,
      "outputs": []
    },
    {
      "cell_type": "markdown",
      "source": [
        "BCAA at position 3: Valine (V)\n",
        "BCAA at position 56: Leucine (L)\n",
        "BCAA at position 57: Proline (P)\n",
        "BCAA at position 64: Leucine (L)\n",
        "BCAA at position 99: Valine (V)"
      ],
      "metadata": {
        "id": "uXJ-VJoi0hg-"
      }
    },
    {
      "cell_type": "code",
      "source": [],
      "metadata": {
        "id": "DGO-Ql3Z0iHJ"
      },
      "execution_count": null,
      "outputs": []
    }
  ]
}